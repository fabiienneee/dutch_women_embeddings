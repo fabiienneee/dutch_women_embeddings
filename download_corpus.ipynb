{
  "nbformat": 4,
  "nbformat_minor": 5,
  "metadata": {
    "kernelspec": {
      "display_name": "Python 3",
      "language": "python",
      "name": "python3"
    },
    "language_info": {
      "codemirror_mode": {
        "name": "ipython",
        "version": 3
      },
      "file_extension": ".py",
      "mimetype": "text/x-python",
      "name": "python",
      "nbconvert_exporter": "python",
      "pygments_lexer": "ipython3",
      "version": "3.7.1"
    },
    "colab": {
      "name": "download_corpus.ipynb",
      "provenance": [],
      "collapsed_sections": []
    }
  },
  "cells": [
    {
      "cell_type": "markdown",
      "metadata": {
        "id": "6bc6cd73"
      },
      "source": [
        "# Import packages"
      ],
      "id": "6bc6cd73"
    },
    {
      "cell_type": "code",
      "metadata": {
        "id": "3cc058b5"
      },
      "source": [
        "import pandas as pd\n",
        "from bs4 import BeautifulSoup\n",
        "import requests\n",
        "import pandas as pd\n",
        "import regex as re\n",
        "\n",
        "apikey = '' # an api key can be requested via the dataservices of the \n",
        "            #Koninkijke Bibliotheek, see https://www.kb.nl/bronnen-zoekwijzers/dataservices-en-apis"
      ],
      "id": "3cc058b5",
      "execution_count": null,
      "outputs": []
    },
    {
      "cell_type": "markdown",
      "metadata": {
        "id": "5870f123"
      },
      "source": [
        "# Retrieve identifiers"
      ],
      "id": "5870f123"
    },
    {
      "cell_type": "code",
      "metadata": {
        "id": "9e68efe1",
        "outputId": "b1e80df3-b110-4ae4-f0a9-0f2fad1b879b"
      },
      "source": [
        "# %20 is a space in the query url\n",
        "# see https://developer.mozilla.org/en-US/docs/Glossary/percent-encoding\n",
        "\n",
        "dfIdentifiers = pd.DataFrame(columns = ['identifier', 'type', 'title', 'papertitle', 'date'])\n",
        "\n",
        "start_date = \"1618-01-01\" #YYYY-MM-DD\n",
        "end_date = \"1791-12-31\" # Change start and end date for different subsets of the delpher archive\n",
        "file_name = start_date[:4]+\"_\"+end_date[:4]+\".csv\"\n",
        "dates = start_date[:4]+\"_\"+end_date[:4]\n",
        "\n",
        "subject = f\"%28universiteit%20OR%20universiteiten%20OR%20universitair%20OR%20vrouwen%20OR%20vrā%20OR%20vrau%20OR%20vrauwen%20OR%20vrouwen%20OR%20vroutje%20OR%20vrouw%20OR%20vrouwe%20OR%20vrouws%20OR%20vrouwtjens%20OR%20onderwijs%20OR%20onderwys%20OR%20Aletta_Jacobs%20OR%20vrouwenkiesrecht%20OR%20betaald_werk%20OR%20Vrije_Vrouwenvereeniging%20OR%20Vereeniging_voor_Vrouwenkiesrecht%20OR%20VVK%20OR%20Wilhelmina_Drucker%20OR%20vrouwenarbeid%20OR%20gezinsloon%20OR%20huishouden%20OR%20huwelijk%20OR%20seksualiteit%20OR%20kiesrecht%20OR%20moeder%20OR%20moederschap%20OR%20sufragettes%20OR%20feminisme%20OR%20vrouwenbeweging%20OR%20vrouwenkiesrecht%20OR%20vrouwenstemrecht%20OR%20vrouwenkiesrechtstrijd%20OR%20vrouwenvraagstuk%20OR%20vrouwenemancipatie%20OR%20vrouwentekens%20OR%20yoni_teken%20OR%20yoni%20OR%20Dolle_Mina%20OR%20abortus%20OR%20vrouwenstaking%20OR%20vrouwenpraatgroepen%20OR%20emancipatie%20OR%20emancipatiebeleid%20OR%20vrouwenonderdrukking%20OR%20huishoudelijke_arbeid%20OR%20huisvrouwen%20OR%20huisvrouwensyndroom%20OR%20voscursussen%20OR%20amazonen%20OR%20heksen%29AND%28date%20within%20%22{start_date}%20{end_date}%22%29\"\n",
        "startRecord = 0 #The first record number you want to retrieve from your query\n",
        "\n",
        "#query needs to be expressed in CQL syntax\n",
        "query = f\"\"\"http://jsru.kb.nl/sru/sru/{apikey}?query={subject}&x-collection=DDD_artikel&recordSchema=dc&startRecord={str(startRecord)}&maximumRecords=1000\"\"\"\n",
        "page = requests.get(query)\n",
        "soup = BeautifulSoup(page.content, \"xml\")\n",
        "for item in soup.findAll('srw:searchRetrieveResponse'):\n",
        "    records = item.find('srw:numberOfRecords').text\n",
        "    \n",
        "print(\"Total records available:\",records)\n",
        "\n",
        "records = 200000 # The maximum amount of articles you want to retrieve + 1000.\n",
        "\n",
        "while startRecord <= int(records):\n",
        "    query = f\"\"\"http://jsru.kb.nl/sru/sru/{apikey}?query={subject}&x-collection=DDD_artikel&recordSchema=dc&startRecord={str(startRecord)}&maximumRecords=1000\"\"\"\n",
        "    page = requests.get(query)\n",
        "    soup = BeautifulSoup(page.content, \"xml\")\n",
        "    \n",
        "    for item in soup.findAll('srw:recordData'):\n",
        "        identifier = item.find('dc:identifier')\n",
        "        kind =  item.find('dc:type')    \n",
        "        title = item.find('dc:title')\n",
        "        papertitle = item.find('dc:publisher')\n",
        "        date = item.find('dc:date')\n",
        "        if title is None:\n",
        "            title = \"\"            \n",
        "            dfIdentifiers = dfIdentifiers.append({'identifier': identifier.text, 'type': kind.text, 'title': title, 'papertitle': papertitle.text, 'date': date.text}, ignore_index = True)\n",
        "        else:\n",
        "            dfIdentifiers = dfIdentifiers.append({'identifier': identifier.text, 'type': kind.text, 'title': title.text, 'papertitle': papertitle.text, 'date': date.text}, ignore_index = True)\n",
        "    \n",
        "    startRecord = startRecord + 1000\n",
        "    print(f\"Amount of records retrieved: {startRecord}\")"
      ],
      "id": "9e68efe1",
      "execution_count": null,
      "outputs": [
        {
          "output_type": "stream",
          "text": [
            "Total records available: 83883\n",
            "Amount of records retrieved: 1000\n",
            "Amount of records retrieved: 2000\n",
            "Amount of records retrieved: 3000\n",
            "Amount of records retrieved: 4000\n",
            "Amount of records retrieved: 5000\n",
            "Amount of records retrieved: 6000\n",
            "Amount of records retrieved: 7000\n",
            "Amount of records retrieved: 8000\n",
            "Amount of records retrieved: 9000\n",
            "Amount of records retrieved: 10000\n",
            "Amount of records retrieved: 11000\n",
            "Amount of records retrieved: 12000\n",
            "Amount of records retrieved: 13000\n",
            "Amount of records retrieved: 14000\n",
            "Amount of records retrieved: 15000\n",
            "Amount of records retrieved: 16000\n",
            "Amount of records retrieved: 17000\n",
            "Amount of records retrieved: 18000\n",
            "Amount of records retrieved: 19000\n",
            "Amount of records retrieved: 20000\n",
            "Amount of records retrieved: 21000\n",
            "Amount of records retrieved: 22000\n",
            "Amount of records retrieved: 23000\n",
            "Amount of records retrieved: 24000\n",
            "Amount of records retrieved: 25000\n",
            "Amount of records retrieved: 26000\n",
            "Amount of records retrieved: 27000\n",
            "Amount of records retrieved: 28000\n",
            "Amount of records retrieved: 29000\n",
            "Amount of records retrieved: 30000\n",
            "Amount of records retrieved: 31000\n",
            "Amount of records retrieved: 32000\n",
            "Amount of records retrieved: 33000\n",
            "Amount of records retrieved: 34000\n",
            "Amount of records retrieved: 35000\n",
            "Amount of records retrieved: 36000\n",
            "Amount of records retrieved: 37000\n",
            "Amount of records retrieved: 38000\n",
            "Amount of records retrieved: 39000\n",
            "Amount of records retrieved: 40000\n",
            "Amount of records retrieved: 41000\n",
            "Amount of records retrieved: 42000\n",
            "Amount of records retrieved: 43000\n",
            "Amount of records retrieved: 44000\n",
            "Amount of records retrieved: 45000\n",
            "Amount of records retrieved: 46000\n",
            "Amount of records retrieved: 47000\n",
            "Amount of records retrieved: 48000\n",
            "Amount of records retrieved: 49000\n",
            "Amount of records retrieved: 50000\n",
            "Amount of records retrieved: 51000\n",
            "Amount of records retrieved: 52000\n",
            "Amount of records retrieved: 53000\n",
            "Amount of records retrieved: 54000\n",
            "Amount of records retrieved: 55000\n",
            "Amount of records retrieved: 56000\n",
            "Amount of records retrieved: 57000\n",
            "Amount of records retrieved: 58000\n",
            "Amount of records retrieved: 59000\n",
            "Amount of records retrieved: 60000\n",
            "Amount of records retrieved: 61000\n",
            "Amount of records retrieved: 62000\n",
            "Amount of records retrieved: 63000\n",
            "Amount of records retrieved: 64000\n",
            "Amount of records retrieved: 65000\n",
            "Amount of records retrieved: 66000\n",
            "Amount of records retrieved: 67000\n",
            "Amount of records retrieved: 68000\n",
            "Amount of records retrieved: 69000\n",
            "Amount of records retrieved: 70000\n",
            "Amount of records retrieved: 71000\n",
            "Amount of records retrieved: 72000\n",
            "Amount of records retrieved: 73000\n",
            "Amount of records retrieved: 74000\n",
            "Amount of records retrieved: 75000\n",
            "Amount of records retrieved: 76000\n",
            "Amount of records retrieved: 77000\n",
            "Amount of records retrieved: 78000\n",
            "Amount of records retrieved: 79000\n",
            "Amount of records retrieved: 80000\n",
            "Amount of records retrieved: 81000\n",
            "Amount of records retrieved: 82000\n",
            "Amount of records retrieved: 83000\n",
            "Amount of records retrieved: 84000\n"
          ],
          "name": "stdout"
        }
      ]
    },
    {
      "cell_type": "code",
      "metadata": {
        "id": "77592f97",
        "outputId": "cbfb82b3-ef82-44bb-a3e3-db301bd31ddd"
      },
      "source": [
        "len(dfIdentifiers)"
      ],
      "id": "77592f97",
      "execution_count": null,
      "outputs": [
        {
          "output_type": "execute_result",
          "data": {
            "text/plain": [
              "83884"
            ]
          },
          "metadata": {
            "tags": []
          },
          "execution_count": 3
        }
      ]
    },
    {
      "cell_type": "code",
      "metadata": {
        "id": "1f55969e",
        "outputId": "3a97ea16-7ab6-49b7-d7e4-dcbd6564dfb6"
      },
      "source": [
        "# Check dates\n",
        "date = dfIdentifiers[\"date\"]\n",
        "\n",
        "print(date.min(), '\\n', date.max())"
      ],
      "id": "1f55969e",
      "execution_count": null,
      "outputs": [
        {
          "output_type": "stream",
          "text": [
            "1619/06/15 00:00:00 \n",
            " 1791/12/31 00:00:00\n"
          ],
          "name": "stdout"
        }
      ]
    },
    {
      "cell_type": "code",
      "metadata": {
        "id": "2b462704"
      },
      "source": [
        "# Save df identifiers\n",
        "file_path = \"Define the location where you want to save your file\"\n",
        "path = file_path+dates+\"_identifiers.csv\"\n",
        "dfIdentifiers.to_csv(path_or_buf=path)"
      ],
      "id": "2b462704",
      "execution_count": null,
      "outputs": []
    },
    {
      "cell_type": "markdown",
      "metadata": {
        "id": "311ea2e8"
      },
      "source": [
        "# Retrieve texts"
      ],
      "id": "311ea2e8"
    },
    {
      "cell_type": "code",
      "metadata": {
        "id": "e285b57b",
        "outputId": "1f22a6e4-4852-4046-ac74-99ecf837bc28"
      },
      "source": [
        "print(\"NA values in identifiers:\",dfIdentifiers['identifier'].isna().any())\n",
        "print(\"Duplicate values in identifiers:\",dfIdentifiers['identifier'].duplicated().any())\n",
        "\n",
        "# Remove duplicates\n",
        "dfIdentifiers = dfIdentifiers.drop_duplicates(subset=['identifier'])\n",
        "print(\"Duplicate values in identifiers:\",dfIdentifiers['identifier'].duplicated().any())\n",
        "\n",
        "# Check amount of unique identifiers\n",
        "print(\"Amount of unique identifiers:\",len(dfIdentifiers['identifier']))"
      ],
      "id": "e285b57b",
      "execution_count": null,
      "outputs": [
        {
          "output_type": "stream",
          "text": [
            "NA values in identifiers: False\n",
            "Duplicate values in identifiers: True\n",
            "Duplicate values in identifiers: False\n",
            "Amount of unique identifiers: 83883\n"
          ],
          "name": "stdout"
        }
      ]
    },
    {
      "cell_type": "code",
      "metadata": {
        "id": "26a9f398"
      },
      "source": [
        "dfTekst = pd.DataFrame(columns = ['identifier', 'text'])"
      ],
      "id": "26a9f398",
      "execution_count": null,
      "outputs": []
    },
    {
      "cell_type": "code",
      "metadata": {
        "id": "d6916760",
        "outputId": "572613ff-674a-415c-f3e5-979071922d10"
      },
      "source": [
        "for index, row in dfIdentifiers.iterrows():\n",
        "    if index % 1000 == 0: #Get a print statement every 1000 items\n",
        "        print(\"Retrieved first \",index,\" texts.\")\n",
        "    \n",
        "    identifier = row['identifier']\n",
        "    url = requests.get(identifier)\n",
        "    soup = BeautifulSoup(url.content, \"xml\")\n",
        "    text = ''\n",
        "    for item in soup.findAll('p'): #this will find all text within XML tags with p: soup.findAll('p'):[<p>one</p>, <p>two</p>] see beatofulsoup documentation\n",
        "        text = text + (item.text)\n",
        "\n",
        "    dfTekst = dfTekst.append({'identifier': identifier, 'text': text}, ignore_index = True)\n",
        "    \n",
        "'''beatiful soup documentation:\n",
        "https://www.crummy.com/software/BeautifulSoup/bs3/documentation.html#The%20basic%20find%20method%3a%20findAll%28name,%20attrs,%20recursive,%20text,%20limit,%20%2a%2akwargs%29 '''"
      ],
      "id": "d6916760",
      "execution_count": null,
      "outputs": [
        {
          "output_type": "stream",
          "text": [
            "Retrieved first  0  texts.\n",
            "Retrieved first  2000  texts.\n",
            "Retrieved first  3000  texts.\n",
            "Retrieved first  4000  texts.\n",
            "Retrieved first  5000  texts.\n",
            "Retrieved first  6000  texts.\n",
            "Retrieved first  7000  texts.\n",
            "Retrieved first  8000  texts.\n",
            "Retrieved first  9000  texts.\n",
            "Retrieved first  10000  texts.\n",
            "Retrieved first  11000  texts.\n",
            "Retrieved first  12000  texts.\n",
            "Retrieved first  13000  texts.\n",
            "Retrieved first  14000  texts.\n",
            "Retrieved first  15000  texts.\n",
            "Retrieved first  16000  texts.\n",
            "Retrieved first  17000  texts.\n",
            "Retrieved first  18000  texts.\n",
            "Retrieved first  19000  texts.\n",
            "Retrieved first  20000  texts.\n",
            "Retrieved first  21000  texts.\n",
            "Retrieved first  22000  texts.\n",
            "Retrieved first  23000  texts.\n",
            "Retrieved first  24000  texts.\n",
            "Retrieved first  25000  texts.\n",
            "Retrieved first  26000  texts.\n",
            "Retrieved first  27000  texts.\n",
            "Retrieved first  28000  texts.\n",
            "Retrieved first  29000  texts.\n",
            "Retrieved first  30000  texts.\n",
            "Retrieved first  31000  texts.\n",
            "Retrieved first  32000  texts.\n",
            "Retrieved first  33000  texts.\n",
            "Retrieved first  34000  texts.\n",
            "Retrieved first  35000  texts.\n",
            "Retrieved first  36000  texts.\n",
            "Retrieved first  37000  texts.\n",
            "Retrieved first  38000  texts.\n",
            "Retrieved first  39000  texts.\n",
            "Retrieved first  40000  texts.\n",
            "Retrieved first  41000  texts.\n",
            "Retrieved first  42000  texts.\n",
            "Retrieved first  43000  texts.\n",
            "Retrieved first  44000  texts.\n",
            "Retrieved first  45000  texts.\n",
            "Retrieved first  46000  texts.\n",
            "Retrieved first  47000  texts.\n",
            "Retrieved first  48000  texts.\n",
            "Retrieved first  49000  texts.\n",
            "Retrieved first  50000  texts.\n",
            "Retrieved first  51000  texts.\n",
            "Retrieved first  52000  texts.\n",
            "Retrieved first  53000  texts.\n",
            "Retrieved first  54000  texts.\n",
            "Retrieved first  55000  texts.\n",
            "Retrieved first  56000  texts.\n",
            "Retrieved first  57000  texts.\n",
            "Retrieved first  58000  texts.\n",
            "Retrieved first  59000  texts.\n",
            "Retrieved first  60000  texts.\n",
            "Retrieved first  61000  texts.\n",
            "Retrieved first  62000  texts.\n",
            "Retrieved first  63000  texts.\n",
            "Retrieved first  64000  texts.\n",
            "Retrieved first  65000  texts.\n",
            "Retrieved first  66000  texts.\n",
            "Retrieved first  67000  texts.\n",
            "Retrieved first  68000  texts.\n",
            "Retrieved first  69000  texts.\n",
            "Retrieved first  70000  texts.\n",
            "Retrieved first  71000  texts.\n",
            "Retrieved first  72000  texts.\n",
            "Retrieved first  73000  texts.\n",
            "Retrieved first  74000  texts.\n",
            "Retrieved first  75000  texts.\n",
            "Retrieved first  76000  texts.\n",
            "Retrieved first  77000  texts.\n",
            "Retrieved first  78000  texts.\n",
            "Retrieved first  79000  texts.\n",
            "Retrieved first  80000  texts.\n",
            "Retrieved first  81000  texts.\n",
            "Retrieved first  82000  texts.\n",
            "Retrieved first  83000  texts.\n"
          ],
          "name": "stdout"
        },
        {
          "output_type": "execute_result",
          "data": {
            "text/plain": [
              "'beatiful soup documentation:\\nhttps://www.crummy.com/software/BeautifulSoup/bs3/documentation.html#The%20basic%20find%20method%3a%20findAll%28name,%20attrs,%20recursive,%20text,%20limit,%20%2a%2akwargs%29 '"
            ]
          },
          "metadata": {
            "tags": []
          },
          "execution_count": 8
        }
      ]
    },
    {
      "cell_type": "code",
      "metadata": {
        "id": "607d0e1a",
        "outputId": "9b119e8c-6942-495f-f25c-afbc86c7d294"
      },
      "source": [
        "len(dfTekst)"
      ],
      "id": "607d0e1a",
      "execution_count": null,
      "outputs": [
        {
          "output_type": "execute_result",
          "data": {
            "text/plain": [
              "83883"
            ]
          },
          "metadata": {
            "tags": []
          },
          "execution_count": 9
        }
      ]
    },
    {
      "cell_type": "markdown",
      "metadata": {
        "id": "95f8d41b"
      },
      "source": [
        "# Merge dataframes"
      ],
      "id": "95f8d41b"
    },
    {
      "cell_type": "code",
      "metadata": {
        "id": "29953060",
        "outputId": "fb3692e8-c50b-4218-e5e5-b0fd4836ea27"
      },
      "source": [
        "# Merge text and identifier dataframes\n",
        "dfIdentifiers = dfIdentifiers.merge(dfTekst, on = 'identifier', how = 'inner')\n",
        "dfIdentifiers.head(4)"
      ],
      "id": "29953060",
      "execution_count": null,
      "outputs": [
        {
          "output_type": "execute_result",
          "data": {
            "text/html": [
              "<div>\n",
              "<style scoped>\n",
              "    .dataframe tbody tr th:only-of-type {\n",
              "        vertical-align: middle;\n",
              "    }\n",
              "\n",
              "    .dataframe tbody tr th {\n",
              "        vertical-align: top;\n",
              "    }\n",
              "\n",
              "    .dataframe thead th {\n",
              "        text-align: right;\n",
              "    }\n",
              "</style>\n",
              "<table border=\"1\" class=\"dataframe\">\n",
              "  <thead>\n",
              "    <tr style=\"text-align: right;\">\n",
              "      <th></th>\n",
              "      <th>identifier</th>\n",
              "      <th>type</th>\n",
              "      <th>title</th>\n",
              "      <th>papertitle</th>\n",
              "      <th>date</th>\n",
              "      <th>text</th>\n",
              "    </tr>\n",
              "  </thead>\n",
              "  <tbody>\n",
              "    <tr>\n",
              "      <th>0</th>\n",
              "      <td>http://resolver.kb.nl/resolve?urn=ddd:01079908...</td>\n",
              "      <td>artikel</td>\n",
              "      <td>PORTUGAL.</td>\n",
              "      <td>Johannes Enschede en Zoonen</td>\n",
              "      <td>1775/05/04 00:00:00</td>\n",
              "      <td>Lissabon den 4 April, 't Is zeer gemeen, en me...</td>\n",
              "    </tr>\n",
              "    <tr>\n",
              "      <th>1</th>\n",
              "      <td>http://resolver.kb.nl/resolve?urn=ddd:01019858...</td>\n",
              "      <td>artikel</td>\n",
              "      <td>PORTUGAL.</td>\n",
              "      <td>Callenfels, Mandelgreen en Taillefert</td>\n",
              "      <td>1775/05/09 00:00:00</td>\n",
              "      <td>Lissabon, deni 4 April. Mszeer femeen,et menri...</td>\n",
              "    </tr>\n",
              "    <tr>\n",
              "      <th>2</th>\n",
              "      <td>http://resolver.kb.nl/resolve?urn=ddd:01010643...</td>\n",
              "      <td>artikel</td>\n",
              "      <td>ZWEEDEN.</td>\n",
              "      <td>C. Barlinckhoff [etc];A.S. Hoitsema</td>\n",
              "      <td>1775/12/01 00:00:00</td>\n",
              "      <td>STOKKOLM den 6 November. Deezer dagen , heeft ...</td>\n",
              "    </tr>\n",
              "    <tr>\n",
              "      <th>3</th>\n",
              "      <td>http://resolver.kb.nl/resolve?urn=ddd:01072136...</td>\n",
              "      <td>advertentie</td>\n",
              "      <td>Advertentie</td>\n",
              "      <td>Jan Verlem</td>\n",
              "      <td>1785/09/05 00:00:00</td>\n",
              "      <td>)?.etêr î-tiffetij Sfitts ftict —• — na Noorwe...</td>\n",
              "    </tr>\n",
              "  </tbody>\n",
              "</table>\n",
              "</div>"
            ],
            "text/plain": [
              "                                          identifier         type  \\\n",
              "0  http://resolver.kb.nl/resolve?urn=ddd:01079908...      artikel   \n",
              "1  http://resolver.kb.nl/resolve?urn=ddd:01019858...      artikel   \n",
              "2  http://resolver.kb.nl/resolve?urn=ddd:01010643...      artikel   \n",
              "3  http://resolver.kb.nl/resolve?urn=ddd:01072136...  advertentie   \n",
              "\n",
              "         title                             papertitle                 date  \\\n",
              "0    PORTUGAL.            Johannes Enschede en Zoonen  1775/05/04 00:00:00   \n",
              "1    PORTUGAL.  Callenfels, Mandelgreen en Taillefert  1775/05/09 00:00:00   \n",
              "2     ZWEEDEN.    C. Barlinckhoff [etc];A.S. Hoitsema  1775/12/01 00:00:00   \n",
              "3  Advertentie                             Jan Verlem  1785/09/05 00:00:00   \n",
              "\n",
              "                                                text  \n",
              "0  Lissabon den 4 April, 't Is zeer gemeen, en me...  \n",
              "1  Lissabon, deni 4 April. Mszeer femeen,et menri...  \n",
              "2  STOKKOLM den 6 November. Deezer dagen , heeft ...  \n",
              "3  )?.etêr î-tiffetij Sfitts ftict —• — na Noorwe...  "
            ]
          },
          "metadata": {
            "tags": []
          },
          "execution_count": 10
        }
      ]
    },
    {
      "cell_type": "code",
      "metadata": {
        "id": "9119378d",
        "outputId": "dd93e9f3-0767-4b5d-cef6-ed9521db6a62"
      },
      "source": [
        "len(dfIdentifiers)"
      ],
      "id": "9119378d",
      "execution_count": null,
      "outputs": [
        {
          "output_type": "execute_result",
          "data": {
            "text/plain": [
              "83883"
            ]
          },
          "metadata": {
            "tags": []
          },
          "execution_count": 11
        }
      ]
    },
    {
      "cell_type": "markdown",
      "metadata": {
        "id": "0ce9d8f5"
      },
      "source": [
        "# Preprocess dataframe"
      ],
      "id": "0ce9d8f5"
    },
    {
      "cell_type": "code",
      "metadata": {
        "id": "eb5e575b",
        "outputId": "e45c099d-4696-489e-9cbd-fe84a290478a"
      },
      "source": [
        "df = dfIdentifiers\n",
        "\n",
        "## remove duplicate entries based on the text column\n",
        "df = df.drop_duplicates(subset=['text'])\n",
        "\n",
        "## remove unnecessary columns\n",
        "df = df.drop(['Unnamed: 0'], axis=1, errors='ignore')\n",
        "\n",
        "## reset the index\n",
        "df = df.reset_index()\n",
        "print(df.info())\n",
        "\n",
        "## check for NA in text & drop\n",
        "print(\"NA values in text:\",df['text'].isna().any())\n",
        "print(type(df))\n",
        "df = df.dropna(axis=0, how='any', subset=['text'])\n",
        "print(\"NA values in text:\",df['text'].isna().any())"
      ],
      "id": "eb5e575b",
      "execution_count": null,
      "outputs": [
        {
          "output_type": "stream",
          "text": [
            "<class 'pandas.core.frame.DataFrame'>\n",
            "RangeIndex: 83883 entries, 0 to 83882\n",
            "Data columns (total 7 columns):\n",
            " #   Column      Non-Null Count  Dtype \n",
            "---  ------      --------------  ----- \n",
            " 0   index       83883 non-null  int64 \n",
            " 1   identifier  83883 non-null  object\n",
            " 2   type        83883 non-null  object\n",
            " 3   title       83883 non-null  object\n",
            " 4   papertitle  83883 non-null  object\n",
            " 5   date        83883 non-null  object\n",
            " 6   text        83883 non-null  object\n",
            "dtypes: int64(1), object(6)\n",
            "memory usage: 4.5+ MB\n",
            "None\n",
            "NA values in text: False\n",
            "<class 'pandas.core.frame.DataFrame'>\n",
            "NA values in text: False\n"
          ],
          "name": "stdout"
        }
      ]
    },
    {
      "cell_type": "markdown",
      "metadata": {
        "id": "2d566a35"
      },
      "source": [
        "# Save final dataframe"
      ],
      "id": "2d566a35"
    },
    {
      "cell_type": "code",
      "metadata": {
        "id": "0a7fd47b"
      },
      "source": [
        "# Save dataframe to csv\n",
        "path = file_path+file_name\n",
        "df.to_csv(path_or_buf=path)"
      ],
      "id": "0a7fd47b",
      "execution_count": null,
      "outputs": []
    }
  ]
}